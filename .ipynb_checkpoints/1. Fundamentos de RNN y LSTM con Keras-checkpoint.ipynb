{
 "cells": [
  {
   "cell_type": "markdown",
   "id": "8f28691c",
   "metadata": {},
   "source": [
    "https://medium.com/analytics-vidhya/recurrent-neural-networks-rnns-and-time-series-forecasting-d9ea933426b3"
   ]
  },
  {
   "cell_type": "markdown",
   "id": "5d9a763b",
   "metadata": {},
   "source": [
    "# Fundamentos de RNN y LSTM con Keras"
   ]
  },
  {
   "cell_type": "code",
   "execution_count": 1,
   "id": "3183c939",
   "metadata": {},
   "outputs": [
    {
     "ename": "ModuleNotFoundError",
     "evalue": "No module named 'tensorflow'",
     "output_type": "error",
     "traceback": [
      "\u001b[1;31m---------------------------------------------------------------------------\u001b[0m",
      "\u001b[1;31mModuleNotFoundError\u001b[0m                       Traceback (most recent call last)",
      "\u001b[1;32m~\\AppData\\Local\\Temp\\ipykernel_17996\\1998186935.py\u001b[0m in \u001b[0;36m<module>\u001b[1;34m\u001b[0m\n\u001b[0;32m     11\u001b[0m \u001b[0mwarnings\u001b[0m\u001b[1;33m.\u001b[0m\u001b[0mfilterwarnings\u001b[0m\u001b[1;33m(\u001b[0m\u001b[1;34m\"ignore\"\u001b[0m\u001b[1;33m)\u001b[0m\u001b[1;33m\u001b[0m\u001b[1;33m\u001b[0m\u001b[0m\n\u001b[0;32m     12\u001b[0m \u001b[1;33m\u001b[0m\u001b[0m\n\u001b[1;32m---> 13\u001b[1;33m \u001b[1;32mfrom\u001b[0m \u001b[0mkeras\u001b[0m\u001b[1;33m.\u001b[0m\u001b[0mmodels\u001b[0m \u001b[1;32mimport\u001b[0m \u001b[0mSequential\u001b[0m\u001b[1;33m\u001b[0m\u001b[1;33m\u001b[0m\u001b[0m\n\u001b[0m\u001b[0;32m     14\u001b[0m \u001b[1;32mfrom\u001b[0m \u001b[0mkeras\u001b[0m\u001b[1;33m.\u001b[0m\u001b[0mlayers\u001b[0m \u001b[1;32mimport\u001b[0m \u001b[0mLSTM\u001b[0m\u001b[1;33m,\u001b[0m \u001b[0mDense\u001b[0m\u001b[1;33m\u001b[0m\u001b[1;33m\u001b[0m\u001b[0m\n\u001b[0;32m     15\u001b[0m \u001b[1;32mfrom\u001b[0m \u001b[0mkeras\u001b[0m\u001b[1;33m.\u001b[0m\u001b[0mpreprocessing\u001b[0m\u001b[1;33m.\u001b[0m\u001b[0msequence\u001b[0m \u001b[1;32mimport\u001b[0m \u001b[0mTimeseriesGenerator\u001b[0m\u001b[1;33m\u001b[0m\u001b[1;33m\u001b[0m\u001b[0m\n",
      "\u001b[1;32m~\\Anaconda3\\envs\\lstm\\lib\\site-packages\\keras\\__init__.py\u001b[0m in \u001b[0;36m<module>\u001b[1;34m\u001b[0m\n\u001b[0;32m     19\u001b[0m \"\"\"\n\u001b[0;32m     20\u001b[0m \u001b[1;31m# pylint: disable=unused-import\u001b[0m\u001b[1;33m\u001b[0m\u001b[1;33m\u001b[0m\u001b[1;33m\u001b[0m\u001b[0m\n\u001b[1;32m---> 21\u001b[1;33m \u001b[1;32mfrom\u001b[0m \u001b[0mtensorflow\u001b[0m\u001b[1;33m.\u001b[0m\u001b[0mpython\u001b[0m \u001b[1;32mimport\u001b[0m \u001b[0mtf2\u001b[0m\u001b[1;33m\u001b[0m\u001b[1;33m\u001b[0m\u001b[0m\n\u001b[0m\u001b[0;32m     22\u001b[0m \u001b[1;32mfrom\u001b[0m \u001b[0mkeras\u001b[0m \u001b[1;32mimport\u001b[0m \u001b[0mdistribute\u001b[0m\u001b[1;33m\u001b[0m\u001b[1;33m\u001b[0m\u001b[0m\n\u001b[0;32m     23\u001b[0m \u001b[1;33m\u001b[0m\u001b[0m\n",
      "\u001b[1;31mModuleNotFoundError\u001b[0m: No module named 'tensorflow'"
     ]
    }
   ],
   "source": [
    "import numpy as np\n",
    "import pandas as pd\n",
    "from statsmodels.tsa.statespace.sarimax import SARIMAX\n",
    "from statsmodels.graphics.tsaplots import plot_acf,plot_pacf \n",
    "from statsmodels.tsa.seasonal import seasonal_decompose \n",
    "import matplotlib.pyplot as plt                    \n",
    "from sklearn.metrics import mean_squared_error\n",
    "from statsmodels.tools.eval_measures import rmse\n",
    "import warnings\n",
    "import matplotlib.pyplot as plt\n",
    "warnings.filterwarnings(\"ignore\")\n",
    "\n",
    "from keras.models import Sequential\n",
    "from keras.layers import LSTM, Dense\n",
    "from keras.preprocessing.sequence import TimeseriesGenerator"
   ]
  },
  {
   "cell_type": "code",
   "execution_count": 2,
   "id": "3e2961ac",
   "metadata": {},
   "outputs": [],
   "source": [
    "import numpy as np\n",
    "def generate_time_series(batch_size, n_steps):\n",
    "    freq1, freq2, offsets1, offsets2 = np.random.rand(4, batch_size, 1)\n",
    "    time = np.linspace(0, 1, n_steps)\n",
    "    series = 0.5 * np.sin((time - offsets1) * (freq1 * 10 + 10))    # +wave 1\n",
    "    series += 0.2 * np.sin((time - offsets2) * (freq2 * 20 + 20))            \n",
    "    series += 0.1 * (np.random.rand(batch_size, n_steps) - 0.5)    \n",
    "    return series[..., np.newaxis].astype(np.float32)"
   ]
  },
  {
   "cell_type": "code",
   "execution_count": 3,
   "id": "1e03ae37",
   "metadata": {},
   "outputs": [],
   "source": [
    "n_steps = 50\n",
    "series = generate_time_series(10000, n_steps + 1)\n",
    "X_train, y_train = series[:7000, :n_steps], series[:7000, -1]\n",
    "X_valid, y_valid = series[7000:9000, :n_steps], series[7000:9000, -1]\n",
    "X_test, y_test = series[9000:, :n_steps], series[9000:, -1]"
   ]
  },
  {
   "cell_type": "markdown",
   "id": "fd67d67c",
   "metadata": {},
   "source": [
    "## RNN Simple"
   ]
  },
  {
   "cell_type": "code",
   "execution_count": 4,
   "id": "31c63c7a",
   "metadata": {},
   "outputs": [
    {
     "name": "stdout",
     "output_type": "stream",
     "text": [
      "Epoch 1/20\n",
      "219/219 [==============================] - 6s 20ms/step - loss: 0.2136 - val_loss: 0.1435\n",
      "Epoch 2/20\n",
      "219/219 [==============================] - 4s 18ms/step - loss: 0.1474 - val_loss: 0.1478\n",
      "Epoch 3/20\n",
      "219/219 [==============================] - 4s 18ms/step - loss: 0.1304 - val_loss: 0.0855\n",
      "Epoch 4/20\n",
      "219/219 [==============================] - 4s 18ms/step - loss: 0.0579 - val_loss: 0.0434\n",
      "Epoch 5/20\n",
      "219/219 [==============================] - 4s 17ms/step - loss: 0.0362 - val_loss: 0.0312\n",
      "Epoch 6/20\n",
      "219/219 [==============================] - 4s 18ms/step - loss: 0.0277 - val_loss: 0.0250\n",
      "Epoch 7/20\n",
      "219/219 [==============================] - 4s 18ms/step - loss: 0.0229 - val_loss: 0.0211\n",
      "Epoch 8/20\n",
      "219/219 [==============================] - 4s 18ms/step - loss: 0.0197 - val_loss: 0.0184\n",
      "Epoch 9/20\n",
      "219/219 [==============================] - 4s 18ms/step - loss: 0.0175 - val_loss: 0.0165\n",
      "Epoch 10/20\n",
      "219/219 [==============================] - 4s 18ms/step - loss: 0.0158 - val_loss: 0.0150\n",
      "Epoch 11/20\n",
      "219/219 [==============================] - 4s 18ms/step - loss: 0.0145 - val_loss: 0.0139\n",
      "Epoch 12/20\n",
      "219/219 [==============================] - 4s 18ms/step - loss: 0.0135 - val_loss: 0.0130\n",
      "Epoch 13/20\n",
      "219/219 [==============================] - 4s 18ms/step - loss: 0.0127 - val_loss: 0.0123\n",
      "Epoch 14/20\n",
      "219/219 [==============================] - 4s 17ms/step - loss: 0.0122 - val_loss: 0.0118\n",
      "Epoch 15/20\n",
      "219/219 [==============================] - 4s 18ms/step - loss: 0.0117 - val_loss: 0.0115\n",
      "Epoch 16/20\n",
      "219/219 [==============================] - 4s 18ms/step - loss: 0.0114 - val_loss: 0.0112\n",
      "Epoch 17/20\n",
      "219/219 [==============================] - 4s 18ms/step - loss: 0.0112 - val_loss: 0.0111\n",
      "Epoch 18/20\n",
      "219/219 [==============================] - 4s 18ms/step - loss: 0.0111 - val_loss: 0.0110\n",
      "Epoch 19/20\n",
      "219/219 [==============================] - 4s 17ms/step - loss: 0.0110 - val_loss: 0.0109\n",
      "Epoch 20/20\n",
      "219/219 [==============================] - 4s 18ms/step - loss: 0.0110 - val_loss: 0.0109\n",
      "63/63 [==============================] - 0s 6ms/step - loss: 0.0109\n"
     ]
    },
    {
     "data": {
      "text/plain": [
       "0.010923653841018677"
      ]
     },
     "execution_count": 4,
     "metadata": {},
     "output_type": "execute_result"
    }
   ],
   "source": [
    "import tensorflow as tf\n",
    "from tensorflow import keras\n",
    "\n",
    "# Definición del model\n",
    "model = keras.models.Sequential([\n",
    "    #Añadimos una capa de RNN con una neurona\n",
    "    keras.layers.SimpleRNN(1, input_shape=[None, 1])\n",
    "])\n",
    "\n",
    "# Definimos el optimizador, en este caso de Adam \n",
    "optimizer = keras.optimizers.Adam()\n",
    "\n",
    "# Generamos el modelo\n",
    "model.compile(loss=\"mse\", \n",
    "              optimizer=optimizer)\n",
    "\n",
    "# Entrenamos el modelo\n",
    "history = model.fit(X_train, y_train, epochs=20,\n",
    "                    validation_data=(X_valid, y_valid))\n",
    "\n",
    "# Evaluación del modelo\n",
    "model.evaluate(X_valid, y_valid)"
   ]
  },
  {
   "cell_type": "markdown",
   "id": "86924199",
   "metadata": {},
   "source": [
    "## RNN profunda"
   ]
  },
  {
   "cell_type": "code",
   "execution_count": 5,
   "id": "1e854a7e",
   "metadata": {},
   "outputs": [
    {
     "name": "stdout",
     "output_type": "stream",
     "text": [
      "Epoch 1/20\n",
      "219/219 [==============================] - 14s 50ms/step - loss: 0.0545 - val_loss: 0.0104\n",
      "Epoch 2/20\n",
      "219/219 [==============================] - 10s 47ms/step - loss: 0.0076 - val_loss: 0.0061\n",
      "Epoch 3/20\n",
      "219/219 [==============================] - 10s 47ms/step - loss: 0.0053 - val_loss: 0.0046\n",
      "Epoch 4/20\n",
      "219/219 [==============================] - 10s 48ms/step - loss: 0.0042 - val_loss: 0.0041\n",
      "Epoch 5/20\n",
      "219/219 [==============================] - 11s 48ms/step - loss: 0.0038 - val_loss: 0.0039\n",
      "Epoch 6/20\n",
      "219/219 [==============================] - 10s 47ms/step - loss: 0.0036 - val_loss: 0.0037\n",
      "Epoch 7/20\n",
      "219/219 [==============================] - 10s 47ms/step - loss: 0.0035 - val_loss: 0.0037\n",
      "Epoch 8/20\n",
      "219/219 [==============================] - 10s 47ms/step - loss: 0.0035 - val_loss: 0.0036\n",
      "Epoch 9/20\n",
      "219/219 [==============================] - 10s 47ms/step - loss: 0.0034 - val_loss: 0.0037ET\n",
      "Epoch 10/20\n",
      "219/219 [==============================] - 10s 47ms/step - loss: 0.0034 - val_loss: 0.0035\n",
      "Epoch 11/20\n",
      "219/219 [==============================] - 10s 47ms/step - loss: 0.0034 - val_loss: 0.0034\n",
      "Epoch 12/20\n",
      "219/219 [==============================] - 10s 48ms/step - loss: 0.0033 - val_loss: 0.0034\n",
      "Epoch 13/20\n",
      "219/219 [==============================] - 10s 47ms/step - loss: 0.0033 - val_loss: 0.0034\n",
      "Epoch 14/20\n",
      "219/219 [==============================] - 10s 47ms/step - loss: 0.0033 - val_loss: 0.0035\n",
      "Epoch 15/20\n",
      "219/219 [==============================] - 10s 47ms/step - loss: 0.0032 - val_loss: 0.0033\n",
      "Epoch 16/20\n",
      "219/219 [==============================] - 10s 47ms/step - loss: 0.0032 - val_loss: 0.0033\n",
      "Epoch 17/20\n",
      "219/219 [==============================] - 10s 47ms/step - loss: 0.0032 - val_loss: 0.0033\n",
      "Epoch 18/20\n",
      "219/219 [==============================] - 10s 48ms/step - loss: 0.0031 - val_loss: 0.0032\n",
      "Epoch 19/20\n",
      "219/219 [==============================] - 10s 47ms/step - loss: 0.0031 - val_loss: 0.0031\n",
      "Epoch 20/20\n",
      "219/219 [==============================] - 10s 46ms/step - loss: 0.0031 - val_loss: 0.0031\n",
      "63/63 [==============================] - 1s 16ms/step - loss: 0.0031\n"
     ]
    },
    {
     "data": {
      "text/plain": [
       "0.003133830614387989"
      ]
     },
     "execution_count": 5,
     "metadata": {},
     "output_type": "execute_result"
    }
   ],
   "source": [
    "# Definimos un modelo de RNN con múltiples capas\n",
    "\n",
    "model = keras.models.Sequential([\n",
    "    keras.layers.SimpleRNN(10, return_sequences=True, input_shape=[None, 1]),\n",
    "    keras.layers.SimpleRNN(10, return_sequences=True),\n",
    "    keras.layers.SimpleRNN(1)\n",
    "])\n",
    "\n",
    "model.compile(loss=\"mse\", optimizer=\"adam\")\n",
    "\n",
    "history = model.fit(X_train, y_train, epochs=20,\n",
    "                    validation_data=(X_valid, y_valid))\n",
    "\n",
    "model.evaluate(X_valid, y_valid)"
   ]
  },
  {
   "cell_type": "markdown",
   "id": "b88d50a0",
   "metadata": {},
   "source": [
    "## LSTM"
   ]
  },
  {
   "cell_type": "code",
   "execution_count": null,
   "id": "5f01bdf5",
   "metadata": {},
   "outputs": [],
   "source": [
    "# Definimos un modelo básico de LSTM\n",
    "\n",
    "model = Sequential()\n",
    "model.add(LSTM(100, activation='relu', input_shape=(n_input, n_features)))\n",
    "model.add(Dense(1))\n",
    "\n",
    "model.compile(optimizer='adam', loss='mse')\n",
    "\n",
    "model.fit_generator(generator,epochs=90)"
   ]
  },
  {
   "cell_type": "code",
   "execution_count": null,
   "id": "41e1bc5b",
   "metadata": {},
   "outputs": [],
   "source": []
  }
 ],
 "metadata": {
  "kernelspec": {
   "display_name": "Python 3 (ipykernel)",
   "language": "python",
   "name": "python3"
  },
  "language_info": {
   "codemirror_mode": {
    "name": "ipython",
    "version": 3
   },
   "file_extension": ".py",
   "mimetype": "text/x-python",
   "name": "python",
   "nbconvert_exporter": "python",
   "pygments_lexer": "ipython3",
   "version": "3.7.13"
  }
 },
 "nbformat": 4,
 "nbformat_minor": 5
}
