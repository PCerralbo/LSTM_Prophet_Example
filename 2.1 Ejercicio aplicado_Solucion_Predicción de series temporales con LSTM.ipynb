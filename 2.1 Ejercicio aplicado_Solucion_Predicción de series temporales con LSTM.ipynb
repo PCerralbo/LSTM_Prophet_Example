{
 "cells": [
  {
   "cell_type": "markdown",
   "metadata": {},
   "source": [
    "# Ejercicio aplicado_Predicción de series temporales con LSTM"
   ]
  },
  {
   "cell_type": "markdown",
   "metadata": {},
   "source": [
    "A continuación vamos a entrenar un modelo de LSTM para predecir el número de pasajeros de avión. Código basado en https://github.com/gianfelton/ "
   ]
  },
  {
   "cell_type": "markdown",
   "metadata": {},
   "source": [
    "### Importación de librerías y datos"
   ]
  },
  {
   "cell_type": "code",
   "execution_count": 12,
   "metadata": {},
   "outputs": [],
   "source": [
    "import numpy as np\n",
    "import pandas as pd\n",
    "import matplotlib.pyplot as plt\n",
    "%matplotlib inline\n",
    "from statsmodels.tools.eval_measures import rmse\n",
    "from sklearn.preprocessing import MinMaxScaler\n",
    "from keras.preprocessing.sequence import TimeseriesGenerator\n",
    "from keras.models import Sequential\n",
    "from keras.layers import Dense\n",
    "from keras.layers import LSTM\n",
    "from keras.layers import Dropout\n",
    "import warnings\n",
    "warnings.filterwarnings(\"ignore\")\n",
    "\n",
    "df = pd.read_csv('datos\\AirPassengers.csv')"
   ]
  },
  {
   "cell_type": "code",
   "execution_count": 13,
   "metadata": {},
   "outputs": [],
   "source": [
    "df.Month = pd.to_datetime(df.Month)\n",
    "df = df.set_index(\"Month\")"
   ]
  },
  {
   "cell_type": "markdown",
   "metadata": {},
   "source": [
    "### Pre-procesamiento de datos"
   ]
  },
  {
   "cell_type": "code",
   "execution_count": 26,
   "metadata": {},
   "outputs": [],
   "source": [
    "train, test = df[:-12], df[-12:]"
   ]
  },
  {
   "cell_type": "code",
   "execution_count": 29,
   "metadata": {},
   "outputs": [],
   "source": [
    "scaler = MinMaxScaler()\n",
    "scaler.fit(train)\n",
    "train_scaled = scaler.transform(train)\n",
    "test_scaled = scaler.transform(test)"
   ]
  },
  {
   "cell_type": "code",
   "execution_count": 30,
   "metadata": {},
   "outputs": [],
   "source": [
    "n_input = 12\n",
    "n_features = 1\n",
    "generator = TimeseriesGenerator(train_scaled, train_scaled, length=n_input, batch_size=6)"
   ]
  },
  {
   "cell_type": "code",
   "execution_count": 31,
   "metadata": {},
   "outputs": [],
   "source": [
    "model = Sequential()\n",
    "model.add(LSTM(100, activation='relu', input_shape=(n_input, n_features)))\n",
    "model.add(Dense(1))"
   ]
  },
  {
   "cell_type": "code",
   "execution_count": 32,
   "metadata": {},
   "outputs": [],
   "source": [
    "model.compile(optimizer='adam', \n",
    "              loss='mse')"
   ]
  },
  {
   "cell_type": "code",
   "execution_count": 33,
   "metadata": {
    "scrolled": true
   },
   "outputs": [
    {
     "name": "stdout",
     "output_type": "stream",
     "text": [
      "Epoch 1/90\n",
      "20/20 [==============================] - 1s 5ms/step - loss: 0.1118\n",
      "Epoch 2/90\n",
      "20/20 [==============================] - 0s 5ms/step - loss: 0.0157\n",
      "Epoch 3/90\n",
      "20/20 [==============================] - 0s 5ms/step - loss: 0.0122\n",
      "Epoch 4/90\n",
      "20/20 [==============================] - 0s 4ms/step - loss: 0.0109\n",
      "Epoch 5/90\n",
      "20/20 [==============================] - 0s 3ms/step - loss: 0.0101\n",
      "Epoch 6/90\n",
      "20/20 [==============================] - 0s 4ms/step - loss: 0.0106\n",
      "Epoch 7/90\n",
      "20/20 [==============================] - 0s 4ms/step - loss: 0.0104\n",
      "Epoch 8/90\n",
      "20/20 [==============================] - 0s 4ms/step - loss: 0.0095\n",
      "Epoch 9/90\n",
      "20/20 [==============================] - 0s 4ms/step - loss: 0.0091\n",
      "Epoch 10/90\n",
      "20/20 [==============================] - 0s 5ms/step - loss: 0.0121\n",
      "Epoch 11/90\n",
      "20/20 [==============================] - 0s 5ms/step - loss: 0.0105\n",
      "Epoch 12/90\n",
      "20/20 [==============================] - 0s 5ms/step - loss: 0.0089\n",
      "Epoch 13/90\n",
      "20/20 [==============================] - 0s 4ms/step - loss: 0.0088\n",
      "Epoch 14/90\n",
      "20/20 [==============================] - 0s 4ms/step - loss: 0.0088\n",
      "Epoch 15/90\n",
      "20/20 [==============================] - 0s 5ms/step - loss: 0.0089\n",
      "Epoch 16/90\n",
      "20/20 [==============================] - 0s 5ms/step - loss: 0.0082\n",
      "Epoch 17/90\n",
      "20/20 [==============================] - 0s 4ms/step - loss: 0.0084\n",
      "Epoch 18/90\n",
      "20/20 [==============================] - 0s 4ms/step - loss: 0.0077\n",
      "Epoch 19/90\n",
      "20/20 [==============================] - 0s 5ms/step - loss: 0.0075\n",
      "Epoch 20/90\n",
      "20/20 [==============================] - 0s 5ms/step - loss: 0.0078\n",
      "Epoch 21/90\n",
      "20/20 [==============================] - 0s 5ms/step - loss: 0.0075\n",
      "Epoch 22/90\n",
      "20/20 [==============================] - 0s 4ms/step - loss: 0.0067\n",
      "Epoch 23/90\n",
      "20/20 [==============================] - 0s 4ms/step - loss: 0.0065\n",
      "Epoch 24/90\n",
      "20/20 [==============================] - 0s 4ms/step - loss: 0.0078\n",
      "Epoch 25/90\n",
      "20/20 [==============================] - 0s 5ms/step - loss: 0.0066\n",
      "Epoch 26/90\n",
      "20/20 [==============================] - 0s 4ms/step - loss: 0.0073\n",
      "Epoch 27/90\n",
      "20/20 [==============================] - 0s 5ms/step - loss: 0.0066\n",
      "Epoch 28/90\n",
      "20/20 [==============================] - 0s 4ms/step - loss: 0.0065\n",
      "Epoch 29/90\n",
      "20/20 [==============================] - 0s 5ms/step - loss: 0.0057\n",
      "Epoch 30/90\n",
      "20/20 [==============================] - 0s 5ms/step - loss: 0.0055\n",
      "Epoch 31/90\n",
      "20/20 [==============================] - 0s 4ms/step - loss: 0.0052\n",
      "Epoch 32/90\n",
      "20/20 [==============================] - 0s 4ms/step - loss: 0.0059\n",
      "Epoch 33/90\n",
      "20/20 [==============================] - 0s 5ms/step - loss: 0.0050\n",
      "Epoch 34/90\n",
      "20/20 [==============================] - 0s 4ms/step - loss: 0.0058\n",
      "Epoch 35/90\n",
      "20/20 [==============================] - 0s 4ms/step - loss: 0.0038\n",
      "Epoch 36/90\n",
      "20/20 [==============================] - 0s 5ms/step - loss: 0.0037\n",
      "Epoch 37/90\n",
      "20/20 [==============================] - 0s 4ms/step - loss: 0.0049\n",
      "Epoch 38/90\n",
      "20/20 [==============================] - 0s 4ms/step - loss: 0.0035\n",
      "Epoch 39/90\n",
      "20/20 [==============================] - 0s 5ms/step - loss: 0.0031\n",
      "Epoch 40/90\n",
      "20/20 [==============================] - 0s 4ms/step - loss: 0.0027\n",
      "Epoch 41/90\n",
      "20/20 [==============================] - 0s 4ms/step - loss: 0.0048\n",
      "Epoch 42/90\n",
      "20/20 [==============================] - 0s 4ms/step - loss: 0.0074\n",
      "Epoch 43/90\n",
      "20/20 [==============================] - 0s 4ms/step - loss: 0.0044\n",
      "Epoch 44/90\n",
      "20/20 [==============================] - 0s 4ms/step - loss: 0.0029\n",
      "Epoch 45/90\n",
      "20/20 [==============================] - 0s 4ms/step - loss: 0.0024\n",
      "Epoch 46/90\n",
      "20/20 [==============================] - 0s 5ms/step - loss: 0.0022\n",
      "Epoch 47/90\n",
      "20/20 [==============================] - 0s 5ms/step - loss: 0.0024\n",
      "Epoch 48/90\n",
      "20/20 [==============================] - 0s 4ms/step - loss: 0.0023\n",
      "Epoch 49/90\n",
      "20/20 [==============================] - 0s 5ms/step - loss: 0.0020\n",
      "Epoch 50/90\n",
      "20/20 [==============================] - 0s 5ms/step - loss: 0.0020\n",
      "Epoch 51/90\n",
      "20/20 [==============================] - 0s 5ms/step - loss: 0.0025\n",
      "Epoch 52/90\n",
      "20/20 [==============================] - 0s 6ms/step - loss: 0.0019\n",
      "Epoch 53/90\n",
      "20/20 [==============================] - 0s 5ms/step - loss: 0.0020\n",
      "Epoch 54/90\n",
      "20/20 [==============================] - 0s 4ms/step - loss: 0.0038\n",
      "Epoch 55/90\n",
      "20/20 [==============================] - 0s 4ms/step - loss: 0.0018\n",
      "Epoch 56/90\n",
      "20/20 [==============================] - 0s 5ms/step - loss: 0.0035\n",
      "Epoch 57/90\n",
      "20/20 [==============================] - 0s 5ms/step - loss: 0.0034\n",
      "Epoch 58/90\n",
      "20/20 [==============================] - 0s 4ms/step - loss: 0.0024\n",
      "Epoch 59/90\n",
      "20/20 [==============================] - 0s 6ms/step - loss: 0.0018\n",
      "Epoch 60/90\n",
      "20/20 [==============================] - 0s 5ms/step - loss: 0.0040\n",
      "Epoch 61/90\n",
      "20/20 [==============================] - 0s 5ms/step - loss: 0.0083\n",
      "Epoch 62/90\n",
      "20/20 [==============================] - 0s 5ms/step - loss: 0.0038\n",
      "Epoch 63/90\n",
      "20/20 [==============================] - 0s 6ms/step - loss: 0.0033\n",
      "Epoch 64/90\n",
      "20/20 [==============================] - 0s 5ms/step - loss: 0.0022\n",
      "Epoch 65/90\n",
      "20/20 [==============================] - 0s 5ms/step - loss: 0.0021\n",
      "Epoch 66/90\n",
      "20/20 [==============================] - 0s 5ms/step - loss: 0.0021\n",
      "Epoch 67/90\n",
      "20/20 [==============================] - 0s 4ms/step - loss: 0.0016\n",
      "Epoch 68/90\n",
      "20/20 [==============================] - 0s 5ms/step - loss: 0.0019\n",
      "Epoch 69/90\n",
      "20/20 [==============================] - 0s 4ms/step - loss: 0.0019\n",
      "Epoch 70/90\n",
      "20/20 [==============================] - 0s 4ms/step - loss: 0.0020\n",
      "Epoch 71/90\n",
      "20/20 [==============================] - 0s 5ms/step - loss: 0.0017\n",
      "Epoch 72/90\n",
      "20/20 [==============================] - 0s 5ms/step - loss: 0.0016\n",
      "Epoch 73/90\n",
      "20/20 [==============================] - 0s 5ms/step - loss: 0.0015\n",
      "Epoch 74/90\n",
      "20/20 [==============================] - 0s 4ms/step - loss: 0.0018\n",
      "Epoch 75/90\n",
      "20/20 [==============================] - 0s 5ms/step - loss: 0.0025\n",
      "Epoch 76/90\n",
      "20/20 [==============================] - 0s 5ms/step - loss: 0.0043\n",
      "Epoch 77/90\n",
      "20/20 [==============================] - 0s 6ms/step - loss: 0.0022\n",
      "Epoch 78/90\n",
      "20/20 [==============================] - 0s 4ms/step - loss: 0.0026\n",
      "Epoch 79/90\n",
      "20/20 [==============================] - 0s 5ms/step - loss: 0.0019\n",
      "Epoch 80/90\n",
      "20/20 [==============================] - 0s 4ms/step - loss: 0.0016\n",
      "Epoch 81/90\n",
      "20/20 [==============================] - 0s 4ms/step - loss: 0.0017\n",
      "Epoch 82/90\n",
      "20/20 [==============================] - 0s 5ms/step - loss: 0.0015\n",
      "Epoch 83/90\n",
      "20/20 [==============================] - 0s 5ms/step - loss: 0.0014\n",
      "Epoch 84/90\n",
      "20/20 [==============================] - 0s 5ms/step - loss: 0.0021\n",
      "Epoch 85/90\n",
      "20/20 [==============================] - 0s 4ms/step - loss: 0.0017\n",
      "Epoch 86/90\n",
      "20/20 [==============================] - 0s 4ms/step - loss: 0.0026\n",
      "Epoch 87/90\n",
      "20/20 [==============================] - 0s 4ms/step - loss: 0.0020\n",
      "Epoch 88/90\n",
      "20/20 [==============================] - 0s 5ms/step - loss: 0.0026\n",
      "Epoch 89/90\n",
      "20/20 [==============================] - 0s 5ms/step - loss: 0.0016\n",
      "Epoch 90/90\n",
      "20/20 [==============================] - 0s 5ms/step - loss: 0.0017\n"
     ]
    },
    {
     "data": {
      "text/plain": [
       "<keras.callbacks.History at 0x25aa18682b0>"
      ]
     },
     "execution_count": 33,
     "metadata": {},
     "output_type": "execute_result"
    }
   ],
   "source": [
    "model.fit_generator(generator,epochs=90)"
   ]
  },
  {
   "cell_type": "code",
   "execution_count": 34,
   "metadata": {},
   "outputs": [
    {
     "data": {
      "text/plain": [
       "<AxesSubplot:>"
      ]
     },
     "execution_count": 34,
     "metadata": {},
     "output_type": "execute_result"
    },
    {
     "data": {
      "image/png": "[encoded data removed]",
      "text/plain": [
       "<Figure size 432x288 with 1 Axes>"
      ]
     },
     "metadata": {
      "needs_background": "light"
     },
     "output_type": "display_data"
    }
   ],
   "source": [
    "losses = pd.DataFrame(model.history.history)\n",
    "losses.plot()"
   ]
  },
  {
   "cell_type": "markdown",
   "metadata": {},
   "source": [
    "### Predicción de 12 meses"
   ]
  },
  {
   "cell_type": "markdown",
   "metadata": {},
   "source": [
    "A continuación vamos a realizar una predicción para 12 meses (12 predicciones). Para ello vamos a hacer los siguiente:\n",
    "- crear una lista vacía para cada una de nuestras 12 predicciones\n",
    "- crear el lote que nuestro modelo predecirá \n",
    "- guardar la predicción en nuestra lista\n",
    "- agregar la predicción al final del lote para usarla en la próxima predicción"
   ]
  },
  {
   "cell_type": "code",
   "execution_count": 35,
   "metadata": {},
   "outputs": [],
   "source": [
    "pred_list = []\n",
    "\n",
    "batch = train_scaled[-n_input:].reshape((1, n_input, n_features))\n",
    "\n",
    "for i in range(n_input): \n",
    "    \n",
    "     # get prediction 1 time stamp ahead \n",
    "    pred_list.append(model.predict(batch)[0]) \n",
    "    \n",
    "    # update batch to now include prediction and drop first value\n",
    "    batch = np.append(batch[:,1:,:],[[pred_list[i]]],axis=1)"
   ]
  },
  {
   "cell_type": "markdown",
   "metadata": {},
   "source": [
    "#### Invertir la transformación"
   ]
  },
  {
   "cell_type": "code",
   "execution_count": 36,
   "metadata": {},
   "outputs": [],
   "source": [
    "df_predict = pd.DataFrame(scaler.inverse_transform(pred_list),\n",
    "                          index=df[-n_input:].index, columns=['Prediction'])"
   ]
  },
  {
   "cell_type": "code",
   "execution_count": 37,
   "metadata": {},
   "outputs": [
    {
     "data": {
      "text/html": [
       "<div>\n",
       "<style scoped>\n",
       "    .dataframe tbody tr th:only-of-type {\n",
       "        vertical-align: middle;\n",
       "    }\n",
       "\n",
       "    .dataframe tbody tr th {\n",
       "        vertical-align: top;\n",
       "    }\n",
       "\n",
       "    .dataframe thead th {\n",
       "        text-align: right;\n",
       "    }\n",
       "</style>\n",
       "<table border=\"1\" class=\"dataframe\">\n",
       "  <thead>\n",
       "    <tr style=\"text-align: right;\">\n",
       "      <th></th>\n",
       "      <th>AirPassengers</th>\n",
       "    </tr>\n",
       "    <tr>\n",
       "      <th>Month</th>\n",
       "      <th></th>\n",
       "    </tr>\n",
       "  </thead>\n",
       "  <tbody>\n",
       "    <tr>\n",
       "      <th>1960-01-01</th>\n",
       "      <td>417</td>\n",
       "    </tr>\n",
       "    <tr>\n",
       "      <th>1960-02-01</th>\n",
       "      <td>391</td>\n",
       "    </tr>\n",
       "    <tr>\n",
       "      <th>1960-03-01</th>\n",
       "      <td>419</td>\n",
       "    </tr>\n",
       "    <tr>\n",
       "      <th>1960-04-01</th>\n",
       "      <td>461</td>\n",
       "    </tr>\n",
       "    <tr>\n",
       "      <th>1960-05-01</th>\n",
       "      <td>472</td>\n",
       "    </tr>\n",
       "    <tr>\n",
       "      <th>1960-06-01</th>\n",
       "      <td>535</td>\n",
       "    </tr>\n",
       "    <tr>\n",
       "      <th>1960-07-01</th>\n",
       "      <td>622</td>\n",
       "    </tr>\n",
       "    <tr>\n",
       "      <th>1960-08-01</th>\n",
       "      <td>606</td>\n",
       "    </tr>\n",
       "    <tr>\n",
       "      <th>1960-09-01</th>\n",
       "      <td>508</td>\n",
       "    </tr>\n",
       "    <tr>\n",
       "      <th>1960-10-01</th>\n",
       "      <td>461</td>\n",
       "    </tr>\n",
       "    <tr>\n",
       "      <th>1960-11-01</th>\n",
       "      <td>390</td>\n",
       "    </tr>\n",
       "    <tr>\n",
       "      <th>1960-12-01</th>\n",
       "      <td>432</td>\n",
       "    </tr>\n",
       "  </tbody>\n",
       "</table>\n",
       "</div>"
      ],
      "text/plain": [
       "            AirPassengers\n",
       "Month                    \n",
       "1960-01-01            417\n",
       "1960-02-01            391\n",
       "1960-03-01            419\n",
       "1960-04-01            461\n",
       "1960-05-01            472\n",
       "1960-06-01            535\n",
       "1960-07-01            622\n",
       "1960-08-01            606\n",
       "1960-09-01            508\n",
       "1960-10-01            461\n",
       "1960-11-01            390\n",
       "1960-12-01            432"
      ]
     },
     "execution_count": 37,
     "metadata": {},
     "output_type": "execute_result"
    }
   ],
   "source": [
    "test"
   ]
  },
  {
   "cell_type": "code",
   "execution_count": 38,
   "metadata": {},
   "outputs": [],
   "source": [
    "df_test = pd.concat([test,df_predict], axis=1)"
   ]
  },
  {
   "cell_type": "code",
   "execution_count": 39,
   "metadata": {},
   "outputs": [
    {
     "name": "stderr",
     "output_type": "stream",
     "text": [
      "No handles with labels found to put in legend.\n"
     ]
    },
    {
     "data": {
      "image/png": "[encoded data removed]",
      "text/plain": [
       "<Figure size 1440x360 with 1 Axes>"
      ]
     },
     "metadata": {
      "needs_background": "light"
     },
     "output_type": "display_data"
    }
   ],
   "source": [
    "plt.figure(figsize=(20, 5))\n",
    "plt.plot(df_test.index, df_test['AirPassengers'])\n",
    "plt.plot(df_test.index, df_test['Prediction'], color='r')\n",
    "plt.legend(loc='best', fontsize='xx-large')\n",
    "plt.xticks(fontsize=18)\n",
    "plt.yticks(fontsize=16)\n",
    "plt.show()"
   ]
  },
  {
   "cell_type": "code",
   "execution_count": 40,
   "metadata": {},
   "outputs": [
    {
     "name": "stdout",
     "output_type": "stream",
     "text": [
      "rmse:  29.371477794491206\n"
     ]
    }
   ],
   "source": [
    "lstm_rmse_error = rmse(df_test['AirPassengers'], df_test[\"Prediction\"])\n",
    "print(\"rmse: \", lstm_rmse_error)"
   ]
  },
  {
   "cell_type": "code",
   "execution_count": null,
   "metadata": {},
   "outputs": [],
   "source": []
  }
 ],
 "metadata": {
  "kernelspec": {
   "display_name": "Python 3",
   "language": "python",
   "name": "python3"
  },
  "language_info": {
   "codemirror_mode": {
    "name": "ipython",
    "version": 3
   },
   "file_extension": ".py",
   "mimetype": "text/x-python",
   "name": "python",
   "nbconvert_exporter": "python",
   "pygments_lexer": "ipython3",
   "version": "3.7.0"
  }
 },
 "nbformat": 4,
 "nbformat_minor": 2
}
